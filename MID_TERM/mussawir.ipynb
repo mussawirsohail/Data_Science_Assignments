{
 "cells": [
  {
   "cell_type": "markdown",
   "id": "4eb09789",
   "metadata": {},
   "source": [
    "# Name        : Mussawir Sohail\n",
    "# Course Name : Data Science\n",
    "# Paper       :   Mid-Term\n",
    "# CNIC        : 4320355740171"
   ]
  },
  {
   "cell_type": "markdown",
   "id": "c07f34ba",
   "metadata": {},
   "source": [
    "# Q1\n",
    "#    1  = B\n",
    "#    2  = A\n",
    "#    3  = A\n",
    "#    4  = A\n",
    "#    5  = B\n",
    "#    6  = A\n",
    "#    7  = B\n",
    "#    8  = C\n",
    "#    9  = A\n",
    "#    10 = C"
   ]
  },
  {
   "cell_type": "code",
   "execution_count": null,
   "id": "c1b60605",
   "metadata": {},
   "outputs": [],
   "source": [
    "# Question 02  Write a python function program that merges arrays(lists) , removes duplicates, and sort the list in ascending order, all implemented under a single function.\n",
    "def merge_and_sort(*args):\n",
    "    merged_list = []\n",
    "    for lst in args:\n",
    "        merged_list.extend(lst)\n",
    "    \n",
    "    merged_list = list(set(merged_list))\n",
    "    merged_list.sort()\n",
    "    return merged_list\n",
    "list1 = [1, 2, 3, 4, 5]\n",
    "list2 = [1, 3, 5, 7, 9]\n",
    "list3 = [2, 4, 8, 10, 12]\n",
    "result = merge_and_sort(list1, list2, list3)\n",
    "print(\"Merged, Sorted, and Duplicated list:\", result)"
   ]
  },
  {
   "cell_type": "code",
   "execution_count": null,
   "id": "e71cc439",
   "metadata": {},
   "outputs": [],
   "source": [
    "#Question 03: Write a Python Program using conditional statements that greets user following:\n",
    "# a) Good Morning\n",
    "# b) Good Noon\n",
    "# c) Good Afternoon\n",
    "# d) Good Evening\n",
    "# e) Good Night\n",
    "program = input(\"Enter the time of day (morning, noon, afternoon, evening, night): \").strip().lower()\n",
    "if program == \"morning\":\n",
    "    print(\"Good Morning!\")\n",
    "elif program == \"noon\":\n",
    "    print(\"Good Noon!\")\n",
    "elif program == \"afternoon\":\n",
    "    print(\"Good Afternoon!\")\n",
    "elif program == \"evening\":\n",
    "    print(\"Good Evening!\")\n",
    "elif program == \"night\":\n",
    "    print(\"Good Night!\")\n",
    "else:\n",
    "    print(\"Invalid input. Please enter a valid time of day.\")"
   ]
  },
  {
   "cell_type": "code",
   "execution_count": null,
   "id": "b6ae4787",
   "metadata": {},
   "outputs": [],
   "source": [
    "#Question 04: Write a program to Calculate the sum of all numbers from 1 to a given number. \n",
    "num = int(input(\"Enter a number: \"))\n",
    "if num < 1:\n",
    "    print(\"Please enter a positive integer greater than 0.\")\n",
    "else:\n",
    "    total_sum = sum(range(1, num + 1))\n",
    "    print(f\"The sum of all numbers from 1 to {num} is: {total_sum}\")"
   ]
  },
  {
   "cell_type": "code",
   "execution_count": null,
   "id": "5efecf48",
   "metadata": {},
   "outputs": [],
   "source": [
    "# Question 05: students = { \"student1\": {\"name\": \"Alice\",\"age\": 20,\"grades\": {\"math\": 85, \"science\": 90}}, \"student2\": {\"name\": \"Bob\",\"age\": 22,\"grades\": {\"math\": 78, \"science\": 88 } } }\n",
    "#Qs: 1 Delete Charlie’s Record\n",
    "#Qs:2 Delete Bob’s Math Grade\n",
    "\n",
    "students = {\n",
    "    \"student1\": {\"name\": \"Alice\", \"age\": 20, \"grades\": {\"math\": 85, \"science\": 90}},\n",
    "    \"student2\": {\"name\": \"Bob\", \"age\": 22, \"grades\": {\"math\": 78, \"science\": 88}},\n",
    "    \"student3\": {\"name\": \"Charlie\", \"age\": 23, \"grades\": {\"math\": 92, \"science\": 81}}\n",
    "}\n",
    "if \"student3\" in students:\n",
    "    del students[\"student3\"]\n",
    "print(\"After deleting Charlie's record:\", students)\n",
    "if \"student2\" in students and \"math\" in students[\"student2\"][\"grades\"]:\n",
    "    del students[\"student2\"][\"grades\"][\"math\"]\n",
    "print(\"After deleting Bob's math grade:\", students)"
   ]
  },
  {
   "cell_type": "code",
   "execution_count": null,
   "id": "bde4e7dc",
   "metadata": {},
   "outputs": [],
   "source": [
    "#Question 06: Create a 2D Numpy Array and Reverse its Rows / Columns / or Both (choose one).\n",
    "import numpy as np\n",
    "array_2d = np.array([[1, 2, 3], [4, 5, 6], [7, 8, 9]])\n",
    "reversed_rows = np.flipud(array_2d)\n",
    "print(\"Original Array:\\n\", array_2d)\n",
    "print(\"Array with Reversed Rows:\\n\", reversed_rows)\n",
    "reversed_columns = np.fliplr(array_2d)\n",
    "print(\"Array with Reversed Columns:\\n\", reversed_columns)\n",
    "reversed_both = np.flipud(np.fliplr(array_2d))\n",
    "print(\"Array with Reversed Rows and Columns:\\n\", reversed_both)"
   ]
  }
 ],
 "metadata": {
  "language_info": {
   "name": "python"
  }
 },
 "nbformat": 4,
 "nbformat_minor": 5
}
