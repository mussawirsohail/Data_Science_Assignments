{
 "cells": [
  {
   "cell_type": "markdown",
   "id": "2c7d43a5",
   "metadata": {},
   "source": [
    "# Name        : Mussawir Sohail\n",
    "# Course Name : Data Science\n",
    "# Paper       :   Mid-Term\n",
    "# CNIC        : 4320355740171"
   ]
  },
  {
   "cell_type": "markdown",
   "id": "6a30eb94",
   "metadata": {},
   "source": [
    "# Question 01 Choose the correct answers\n",
    "\n",
    "(10 Marks)\n",
    "# <i>01\n",
    "arr = np.array([[1, 2], [3, 4], [5, 6]])\n",
    "<br>sub = arr[1:3]\n",
    "<br>sub[0,0] = 99\n",
    "\n",
    "<br>After this, what will arr[1,0] be?\n",
    "<br>A) 3\n",
    "<br>B) 99\n",
    "<br>C) 5\n",
    "<br>D) It raises an error\n",
    "\n",
    "# 02 \n",
    "arr = np.arange(27).reshape(3,3,3)\n",
    "<br>x = arr[1, :, 1]\n",
    "\n",
    "<br>Which statement about x is true?\n",
    "<br>A) x is a 1D array containing [10, 13, 16]\n",
    "<br>B) x has shape (3,3)\n",
    "<br>C) x is a 2D slice with one fixed depth index\n",
    "<br>D) x is a copy, not a view\n",
    "\n",
    "# 03\n",
    "arr = np.arange(48).reshape(2,4,6)\n",
    "<br>result = arr[:, 1:3, 2:5]\n",
    "\n",
    "<br>Which is true about result?\n",
    "<br>A) It selects 2 blocks, 2 rows, 3 columns → shape (2,2,3)\n",
    "<br>B) It selects 1 block, 2 rows, 3 columns → shape (1,2,3)\n",
    "<br>C) It flattens to (12,)\n",
    "<br>D) It copies the data into a new array\n",
    "\n",
    "# 04\n",
    "df = pd.DataFrame({'A':[10,20,30,40],'B':[50,60,70,80]}, index=['a','b','c','d'])\n",
    "<br>df.loc['a':'c']\n",
    "<br>df.iloc[0:3]\n",
    "\n",
    "<br>Which statement is true?\n",
    "<br>A) Both select the same rows\n",
    "<br>B) .loc excludes 'c' while .iloc includes index 2\n",
    "<br>C) .loc includes 'c' while .iloc excludes index 3\n",
    "<br>D) Both include one extra row\n",
    "\n",
    "# 05\n",
    "df = pd.DataFrame({'X':[1,2,3,4],'Y':[5,6,7,8]})\n",
    "<br>sub = df[df['X']>2]['Y']\n",
    "<br>sub.iloc[0] = 100\n",
    "\n",
    "<br>What happens?\n",
    "<br>A) df is updated\n",
    "<br>B) Only sub changes\n",
    "<br>C) SettingWithCopyWarning may occur and df remains unchanged\n",
    "<br>D) Raises a KeyError\n",
    "\n",
    "# 06\n",
    "You have s = \"DataScience\".\n",
    "\n",
    "<br>Which statement about slicing is true?\n",
    "<br>A) s[::-1] reverses the string by creating a new one.\n",
    "<br>B) s[::] returns a reference to the original string.\n",
    "<br>C) s[2:5:-1] returns 'taS'.\n",
    "<br>D) s[2:5] modifies the original string in place.\n",
    "\n",
    "# 07 \n",
    "What does the split() method do in Python?\n",
    "\n",
    "<br>A) Joins multiple strings into one\n",
    "<br>B) Divides a string into parts and returns a list\n",
    "<br>C) Changes all letters to lowercase\n",
    "<br>D) Removes spaces from a string\n",
    "\n",
    "# 08 \n",
    "What is a tuple in Python?\n",
    "\n",
    "<br>A) A list that can be changed after creation\n",
    "<br>B) A collection that stores data in key–value pairs\n",
    "<br>C) An ordered collection of items that cannot be changed\n",
    "<br>D) A special type of dictionary\n",
    "\n",
    "# 09\n",
    "When does a NameError occur in Python?\n",
    "\n",
    "<BR>A) When a variable name is not defined before use\n",
    "<BR>B) When a list index is out of range\n",
    "<BR>C) When dividing a number by zero\n",
    "<BR>D) When a file cannot be opened\n",
    "\n",
    "# 10\n",
    "What is a main characteristic of a set in Python?\n",
    "\n",
    "<br>A) It allows duplicate values\n",
    "<br>B) It stores items in a specific order\n",
    "<br>C) It does not allow duplicate elements\n",
    "<br>D) It can be indexed like a list"
   ]
  },
  {
   "cell_type": "markdown",
   "id": "fdcfddad",
   "metadata": {},
   "source": [
    "# Q1  Answers\n",
    "\n",
    "#    1  = B) 99\n",
    "#    2  = A) x is a 1D array containing [10, 13, 16]\n",
    "#    3  = A) It selects 2 blocks, 2 rows, 3 columns → shape (2,2,3)\n",
    "#    4  = A) Both select the same rows\n",
    "#    5  = B) Only sub changes\n",
    "#    6  = A) s[::-1] reverses the string by creating a new one.\n",
    "#    7  = B) Divides a string into parts and returns a list\n",
    "#    8  = C) An ordered collection of items that cannot be changed\n",
    "#    9  = A) When a variable name is not defined before use\n",
    "#    10 = C) It does not allow duplicate elements"
   ]
  },
  {
   "cell_type": "markdown",
   "id": "4971fe29",
   "metadata": {},
   "source": [
    "# Question 02  Write a python function program that merges arrays(lists) , removes duplicates, and sort the list in ascending order, all implemented under a single function. \n",
    "\n",
    "<br> (6 Marks)"
   ]
  },
  {
   "cell_type": "code",
   "execution_count": null,
   "id": "b676de40",
   "metadata": {},
   "outputs": [],
   "source": [
    "#QUESTION 02 SOLUTION HERE \n",
    "def merge_and_sort(*args):\n",
    "    merged_list = []\n",
    "    for lst in args:\n",
    "        merged_list.extend(lst)\n",
    "    \n",
    "    merged_list = list(set(merged_list))\n",
    "    merged_list.sort()\n",
    "    return merged_list\n",
    "list1 = [1, 2, 3, 4, 5]\n",
    "list2 = [1, 3, 5, 7, 9]\n",
    "list3 = [2, 4, 8, 10, 12]\n",
    "result = merge_and_sort(list1, list2, list3)\n",
    "print(\"Merged, Sorted, and Duplicated list:\", result)"
   ]
  },
  {
   "cell_type": "markdown",
   "id": "7cfca8b8",
   "metadata": {},
   "source": []
  },
  {
   "cell_type": "markdown",
   "id": "0f5dce57",
   "metadata": {},
   "source": [
    "# Question 03: Write a Python Program using conditional statements that greets user following:    \n",
    "<br> a) Good Morning \n",
    "<br> b) Good Noon \n",
    "<br> c) Good Afternoon \n",
    "<br> d) Good Evening \n",
    "<br> e) Good Night\n",
    "<br>\n",
    "<br> (5 Marks)"
   ]
  },
  {
   "cell_type": "code",
   "execution_count": null,
   "id": "256ac03d",
   "metadata": {},
   "outputs": [],
   "source": [
    "#QUESTIONS 03 SOLUTION HERE\n",
    "program = input(\"Enter the time of day (morning, noon, afternoon, evening, night): \").strip().lower()\n",
    "if program == \"morning\":\n",
    "    print(\"Good Morning\")\n",
    "elif program == \"noon\":\n",
    "    print(\"Good Noon!\")\n",
    "elif program == \"afternoon\":\n",
    "    print(\"Good Afternoon\")\n",
    "elif program == \"evening\":\n",
    "    print(\"Good Evening\")\n",
    "elif program == \"night\":\n",
    "    print(\"Good Night\")\n",
    "else:\n",
    "    print(\"Invalid Please enter a valid time of day.\")"
   ]
  },
  {
   "cell_type": "markdown",
   "id": "b0ae9623",
   "metadata": {},
   "source": [
    " # Question 04: Write a program to Calculate the sum of all numbers from 1 to a given number. \n",
    "<br> (5 Marks)"
   ]
  },
  {
   "cell_type": "code",
   "execution_count": null,
   "id": "cea7788e",
   "metadata": {},
   "outputs": [],
   "source": [
    "#QUESTION  04 SOLUTION HERE \n",
    "num = int(input(\"Enter a number: \"))\n",
    "if num < 1:\n",
    "    print(\"Please enter a positive integer greater than 0.\")\n",
    "else:\n",
    "    total_sum = sum(range(1, num + 1))\n",
    "    print(f\"The sum of all numbers from 1 to {num} is: {total_sum}\")"
   ]
  },
  {
   "cell_type": "markdown",
   "id": "f9f793de",
   "metadata": {},
   "source": [
    "# Question 05:  students = { \"student1\": {\"name\": \"Alice\",\"age\": 20,\"grades\": {\"math\": 85, \"science\": 90}}, \"student2\": {\"name\": \"Bob\",\"age\": 22,\"grades\": {\"math\": 78, \"science\": 88 } } }\n",
    "<br> Qs: 1 Delete Charlie’s Record\n",
    "<br> Qs:2 Delete Bob’s Math Grade\n",
    "\n",
    "<br>(4 Marks)"
   ]
  },
  {
   "cell_type": "code",
   "execution_count": null,
   "id": "102e8d8d",
   "metadata": {},
   "outputs": [],
   "source": [
    "#QUESTION 05 SOLUTION HERE\n",
    "students = {\n",
    "    \"student1\": {\"name \": \"Alice\", \"age\": 20, \"grades\": {\"math\": 85, \"science\": 90}},\n",
    "    \"student2\": {\"name\": \"Bob\", \"age\": 22, \"grades\": {\"math\": 78, \"science\": 88}},\n",
    "    \"student3\": {\"name\": \"Charlie\", \"age\": 23, \"grades\": {\"math\": 92, \"science\": 81}}\n",
    "}\n",
    "if \"student3\" in students:\n",
    "    del students[\"student3\"]\n",
    "print(\"After deleting Charlie's record:\", students)\n",
    "if \"student2\" in students and \"math\" in students[\"student2\"][\"grades\"]:\n",
    "    del students[\"student2\"][\"grades\"][\"math\"]\n",
    "print(\"After deleting Bob's math grade:\", students)"
   ]
  },
  {
   "cell_type": "markdown",
   "id": "53c813a7",
   "metadata": {},
   "source": [
    "# Question 06: Create a 2D Numpy Array and Reverse its Rows / Columns / or Both (choose one).  \n",
    "\n",
    "<BR>(5 Marks)"
   ]
  },
  {
   "cell_type": "code",
   "execution_count": null,
   "id": "0d9279a2",
   "metadata": {},
   "outputs": [],
   "source": [
    "# QUESTION 06 SOLUTION HERE\n",
    "import numpy as np\n",
    "array_2d = np.array([[1, 2, 3], [4, 5, 6], [7, 8, 9]])\n",
    "reversed_rows = np.flipud(array_2d)\n",
    "print(\"Original Array:\\n\", array_2d)\n",
    "print(\"Array with Reversed Rows:\\n\", reversed_rows)\n",
    "reversed_columns = np.fliplr(array_2d)\n",
    "print(\"Array with Reversed Columns:\\n\", reversed_columns)\n",
    "reversed_both = np.flipud(np.fliplr(array_2d))\n",
    "print(\"Array with Reversed Rows and Columns:\\n\", reversed_both)"
   ]
  },
  {
   "cell_type": "markdown",
   "id": "fd8bc9cb",
   "metadata": {},
   "source": [
    "# Question 07: Create a Small Pandas DataFrame of your choice using Pandas.\n",
    "\n",
    "<br>(5 Marks)"
   ]
  },
  {
   "cell_type": "code",
   "execution_count": null,
   "id": "b7ad1bd6",
   "metadata": {},
   "outputs": [],
   "source": [
    "# QUESTION 07 SOLUTION HERE\n",
    "import pandas as pd\n",
    "data = {\n",
    "    \"Name\": [\"Alice\", \"Bob\", \"Charlie\"],\n",
    "    \"Age\": [20, 22, 23],\n",
    "    \"City\": [\"New York\", \"Los Angeles\", \"Chicago\"]\n",
    "}\n",
    "df = pd.DataFrame(data)\n",
    "print(\"Pandas DataFrame:\\n\", df)"
   ]
  }
 ],
 "metadata": {
  "kernelspec": {
   "display_name": "Python 3",
   "language": "python",
   "name": "python3"
  },
  "language_info": {
   "codemirror_mode": {
    "name": "ipython",
    "version": 3
   },
   "file_extension": ".py",
   "mimetype": "text/x-python",
   "name": "python",
   "nbconvert_exporter": "python",
   "pygments_lexer": "ipython3",
   "version": "3.13.9"
  }
 },
 "nbformat": 4,
 "nbformat_minor": 5
}
