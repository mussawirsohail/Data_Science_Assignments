{
 "cells": [
  {
   "cell_type": "markdown",
   "id": "160281cf",
   "metadata": {},
   "source": [
    "# Name = Mussawir Sohail\n",
    "# Course = DS\n",
    "# Assignment = 8\n",
    "# Date = 21.10.2025"
   ]
  },
  {
   "cell_type": "markdown",
   "id": "7401187e",
   "metadata": {},
   "source": [
    "# EXCISE NUMPY\n"
   ]
  },
  {
   "cell_type": "code",
   "execution_count": null,
   "id": "b08cf135",
   "metadata": {},
   "outputs": [
    {
     "name": "stdout",
     "output_type": "stream",
     "text": [
      "[0. 0. 0. 0. 0. 0. 0. 0. 0. 0.]\n"
     ]
    }
   ],
   "source": [
    "#47\n",
    "import numpy as np\n",
    "\n",
    "zeros_array = np.zeros(10)\n",
    "print(zeros_array)"
   ]
  },
  {
   "cell_type": "code",
   "execution_count": null,
   "id": "0ac65472",
   "metadata": {},
   "outputs": [
    {
     "name": "stdout",
     "output_type": "stream",
     "text": [
      "[10. 10. 10. 10. 10.]\n"
     ]
    }
   ],
   "source": [
    "#48\n",
    "ones_array = np.ones(5)\n",
    "result = ones_array * 10\n",
    "print(result)"
   ]
  },
  {
   "cell_type": "code",
   "execution_count": null,
   "id": "2f681053",
   "metadata": {},
   "outputs": [
    {
     "name": "stdout",
     "output_type": "stream",
     "text": [
      "[ 0  5 10 15 20 25 30 35 40 45 50]\n"
     ]
    }
   ],
   "source": [
    "#49\n",
    "array_0_to_50 = np.arange(0, 51, 5)\n",
    "print(array_0_to_50)"
   ]
  },
  {
   "cell_type": "code",
   "execution_count": null,
   "id": "3f35857a",
   "metadata": {},
   "outputs": [
    {
     "name": "stdout",
     "output_type": "stream",
     "text": [
      "Array: [ 38  91  90  84  50  15  55  17  26   8  42  84  33  81  75  30  68  99\n",
      "  80  89  10  73   3  48  58  12  60   8  64  96  20  13  63  75  11  96\n",
      "  84  53  40  29  71  38  65  85  31  94  35  43   7  70 100  53  68  31\n",
      "  50  98  75  83  25  63  40  94  55  66  56  16  23  87  86  82  75   9\n",
      "   9  72  51  28  79  76  41  46  22  46   7  93  97  15  60  26  21  83\n",
      "  81  27  19   7  22  95  86  14  57  75]\n",
      "Minimum: 3\n",
      "Maximum: 100\n"
     ]
    }
   ],
   "source": [
    "#50\n",
    "random_array = np.random.randint(1, 101, size=100)\n",
    "print(\"Array:\", random_array)\n",
    "print(\"Minimum:\", random_array.min())\n",
    "print(\"Maximum:\", random_array.max())"
   ]
  },
  {
   "cell_type": "code",
   "execution_count": null,
   "id": "e8b463db",
   "metadata": {},
   "outputs": [
    {
     "name": "stdout",
     "output_type": "stream",
     "text": [
      "Addition: [5 7 9]\n",
      "Multiplication: [ 4 10 18]\n"
     ]
    }
   ],
   "source": [
    "#51\n",
    "arr1 = np.array([1, 2, 3])\n",
    "arr2 = np.array([4, 5, 6])\n",
    "\n",
    "addition = arr1 + arr2\n",
    "multiplication = arr1 * arr2\n",
    "\n",
    "print(\"Addition:\", addition)\n",
    "print(\"Multiplication:\", multiplication)"
   ]
  },
  {
   "cell_type": "code",
   "execution_count": null,
   "id": "bdc66ea8",
   "metadata": {},
   "outputs": [
    {
     "name": "stdout",
     "output_type": "stream",
     "text": [
      "2D Array:\n",
      " [[0.0975889  0.957963   0.01971791]\n",
      " [0.80583669 0.88524798 0.47247837]\n",
      " [0.60262184 0.2893533  0.2144096 ]]\n",
      "Mean: 0.48280195558761335\n"
     ]
    }
   ],
   "source": [
    "#52\n",
    "array_2d = np.random.rand(3, 3)  # random floats between 0 and 1\n",
    "print(\"2D Array:\\n\", array_2d)\n",
    "print(\"Mean:\", array_2d.mean())"
   ]
  },
  {
   "cell_type": "code",
   "execution_count": null,
   "id": "3a2139f7",
   "metadata": {},
   "outputs": [
    {
     "name": "stdout",
     "output_type": "stream",
     "text": [
      "Original Array:\n",
      " [[ 0  1  2  3  4]\n",
      " [ 5  6  7  8  9]\n",
      " [10 11 12 13 14]\n",
      " [15 16 17 18 19]]\n",
      "Reshaped Array:\n",
      " [[ 0  1  2  3]\n",
      " [ 4  5  6  7]\n",
      " [ 8  9 10 11]\n",
      " [12 13 14 15]\n",
      " [16 17 18 19]]\n"
     ]
    }
   ],
   "source": [
    "#53\n",
    "array_4x5 = np.arange(20).reshape(4, 5)\n",
    "reshaped_array = array_4x5.reshape(5, 4)\n",
    "print(\"Original Array:\\n\", array_4x5)\n",
    "print(\"Reshaped Array:\\n\", reshaped_array)"
   ]
  },
  {
   "cell_type": "code",
   "execution_count": null,
   "id": "b8c13783",
   "metadata": {},
   "outputs": [
    {
     "name": "stdout",
     "output_type": "stream",
     "text": [
      "Index of maximum value: 3\n"
     ]
    }
   ],
   "source": [
    "#54\n",
    "arr = np.array([1, 7, 3, 9, 5])\n",
    "max_index = arr.argmax()\n",
    "print(\"Index of maximum value:\", max_index)"
   ]
  },
  {
   "cell_type": "markdown",
   "id": "2cafd1cc",
   "metadata": {},
   "source": [
    "# Pandas Exercises"
   ]
  },
  {
   "cell_type": "code",
   "execution_count": null,
   "id": "87213611",
   "metadata": {},
   "outputs": [
    {
     "name": "stdout",
     "output_type": "stream",
     "text": [
      "      Name  Age  Score\n",
      "0    Alice   20     95\n",
      "1      Bob   22     82\n",
      "2  Charlie   21     88\n"
     ]
    }
   ],
   "source": [
    "#55\n",
    "import pandas as pd\n",
    "\n",
    "data = {\n",
    "    \"Name\": [\"Alice\", \"Bob\", \"Charlie\"],\n",
    "    \"Age\": [20, 22, 21],\n",
    "    \"Score\": [95, 82, 88]\n",
    "}\n",
    "\n",
    "df = pd.DataFrame(data)\n",
    "print(df)"
   ]
  },
  {
   "cell_type": "code",
   "execution_count": null,
   "id": "784d25d5",
   "metadata": {},
   "outputs": [
    {
     "name": "stdout",
     "output_type": "stream",
     "text": [
      "0      Alice\n",
      "1        Bob\n",
      "2    Charlie\n",
      "Name: Name, dtype: object\n"
     ]
    }
   ],
   "source": [
    "#56\n",
    "print(df[\"Name\"])\n"
   ]
  },
  {
   "cell_type": "code",
   "execution_count": null,
   "id": "af644ed7",
   "metadata": {},
   "outputs": [
    {
     "name": "stdout",
     "output_type": "stream",
     "text": [
      "      Name  Age  Score Grade\n",
      "0    Alice   20     95     A\n",
      "1      Bob   22     82     B\n",
      "2  Charlie   21     88     B\n"
     ]
    }
   ],
   "source": [
    "#57\n",
    "def grade(score):\n",
    "    if score >= 90:\n",
    "        return \"A\"\n",
    "    elif score >= 80:\n",
    "        return \"B\"\n",
    "    elif score >= 70:\n",
    "        return \"C\"\n",
    "    else:\n",
    "        return \"D\"\n",
    "\n",
    "df[\"Grade\"] = df[\"Score\"].apply(grade)\n",
    "print(df)"
   ]
  },
  {
   "cell_type": "code",
   "execution_count": null,
   "id": "86480716",
   "metadata": {},
   "outputs": [
    {
     "name": "stdout",
     "output_type": "stream",
     "text": [
      "      Name  Age  Score Grade\n",
      "0    Alice   20     95     A\n",
      "2  Charlie   21     88     B\n"
     ]
    }
   ],
   "source": [
    "#58\n",
    "high_scores = df[df[\"Score\"] > 85]\n",
    "print(high_scores)"
   ]
  },
  {
   "cell_type": "code",
   "execution_count": null,
   "id": "cd164ec9",
   "metadata": {},
   "outputs": [
    {
     "name": "stdout",
     "output_type": "stream",
     "text": [
      "Mean Score: 88.33333333333333\n",
      "Median Score: 88.0\n"
     ]
    }
   ],
   "source": [
    "#59\n",
    "mean_score = df[\"Score\"].mean()\n",
    "median_score = df[\"Score\"].median()\n",
    "\n",
    "print(\"Mean Score:\", mean_score)\n",
    "print(\"Median Score:\", median_score)"
   ]
  },
  {
   "cell_type": "code",
   "execution_count": null,
   "id": "74344e9e",
   "metadata": {},
   "outputs": [
    {
     "name": "stdout",
     "output_type": "stream",
     "text": [
      "      Name  Age  Score Grade\n",
      "0    Alice   20     92     A\n",
      "1      Bob   22     85     B\n",
      "2  Charlie   21     78     C\n",
      "3    David   23     90     A\n",
      "4     Emma   20     88     B\n"
     ]
    }
   ],
   "source": [
    "#60\n",
    "df_csv = pd.read_csv(\"DATA.csv\")\n",
    "print(df_csv.head())"
   ]
  }
 ],
 "metadata": {
  "kernelspec": {
   "display_name": ".venv",
   "language": "python",
   "name": "python3"
  },
  "language_info": {
   "codemirror_mode": {
    "name": "ipython",
    "version": 3
   },
   "file_extension": ".py",
   "mimetype": "text/x-python",
   "name": "python",
   "nbconvert_exporter": "python",
   "pygments_lexer": "ipython3",
   "version": "3.13.9"
  }
 },
 "nbformat": 4,
 "nbformat_minor": 5
}
