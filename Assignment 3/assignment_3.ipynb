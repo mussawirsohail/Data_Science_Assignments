{
 "cells": [
  {
   "cell_type": "code",
   "execution_count": null,
   "id": "c9b07f53",
   "metadata": {},
   "outputs": [],
   "source": [
    "# Name = Mussawir Sohail\n",
    "# Date = 07/10/2025\n",
    "# Description = Assignment 3\n",
    "# Course_Name = Data-Science"
   ]
  },
  {
   "cell_type": "code",
   "execution_count": 2,
   "id": "8a078254",
   "metadata": {},
   "outputs": [
    {
     "name": "stdout",
     "output_type": "stream",
     "text": [
      "Your grade is: A\n"
     ]
    }
   ],
   "source": [
    "# Task 1\n",
    "percentage = float(input(\"Enter your percentage: \"))\n",
    "\n",
    "if percentage > 90:\n",
    "    grade = \"A\"\n",
    "elif percentage > 75:\n",
    "    grade = \"B\"\n",
    "elif percentage > 65:\n",
    "    grade = \"C\"\n",
    "else:\n",
    "    grade = \"Fail\"\n",
    "\n",
    "print(\"Your grade is:\", grade)\n"
   ]
  },
  {
   "cell_type": "code",
   "execution_count": null,
   "id": "49e843f4",
   "metadata": {},
   "outputs": [],
   "source": []
  },
  {
   "cell_type": "code",
   "execution_count": 3,
   "id": "287a74e5",
   "metadata": {},
   "outputs": [
    {
     "name": "stdout",
     "output_type": "stream",
     "text": [
      "The number is positive.\n"
     ]
    }
   ],
   "source": [
    "# Task 2\n",
    "num = float(input(\"Enter a number: \"))\n",
    "\n",
    "if num > 0:\n",
    "    print(\"The number is positive.\")\n",
    "elif num < 0:\n",
    "    print(\"The number is negative.\")\n",
    "else:\n",
    "    print(\"The number is zero.\")\n"
   ]
  },
  {
   "cell_type": "code",
   "execution_count": 4,
   "id": "6cee509a",
   "metadata": {},
   "outputs": [
    {
     "name": "stdout",
     "output_type": "stream",
     "text": [
      "Even number\n"
     ]
    }
   ],
   "source": [
    "# Task 3\n",
    "num = int(input(\"Enter a number: \"))\n",
    "\n",
    "if num % 2 == 0:\n",
    "    print(\"Even number\")\n",
    "else:\n",
    "    print(\"Odd number\")\n"
   ]
  },
  {
   "cell_type": "code",
   "execution_count": 5,
   "id": "224924fe",
   "metadata": {},
   "outputs": [
    {
     "name": "stdout",
     "output_type": "stream",
     "text": [
      "Not a prime number\n"
     ]
    }
   ],
   "source": [
    "# Task 4\n",
    "num = int(input(\"Enter a number: \"))\n",
    "\n",
    "if num > 1:\n",
    "    for i in range(2, int(num ** 0.5) + 1):\n",
    "        if num % i == 0:\n",
    "            print(\"Not a prime number\")\n",
    "            break\n",
    "    else:\n",
    "        print(\"Prime number\")\n",
    "else:\n",
    "    print(\"Not a prime number\")\n"
   ]
  },
  {
   "cell_type": "code",
   "execution_count": 6,
   "id": "e15ee247",
   "metadata": {},
   "outputs": [
    {
     "name": "stdout",
     "output_type": "stream",
     "text": [
      "Hello\n"
     ]
    }
   ],
   "source": [
    "# Task 5\n",
    "num = int(input(\"Enter a number: \"))\n",
    "\n",
    "if num % 7 == 0:\n",
    "    print(\"Hello\")\n"
   ]
  },
  {
   "cell_type": "code",
   "execution_count": 7,
   "id": "12283b11",
   "metadata": {},
   "outputs": [
    {
     "name": "stdout",
     "output_type": "stream",
     "text": [
      "Lowest number is: 7.0\n"
     ]
    }
   ],
   "source": [
    "# Task 6\n",
    "a = float(input(\"Enter first number: \"))\n",
    "b = float(input(\"Enter second number: \"))\n",
    "\n",
    "if a < b:\n",
    "    print(\"Lowest number is:\", a)\n",
    "else:\n",
    "    print(\"Lowest number is:\", b)\n"
   ]
  },
  {
   "cell_type": "code",
   "execution_count": 8,
   "id": "b86b22b1",
   "metadata": {},
   "outputs": [
    {
     "name": "stdout",
     "output_type": "stream",
     "text": [
      "Vowel\n"
     ]
    }
   ],
   "source": [
    "# Task 7\n",
    "check = input(\"Enter a character: \").lower()\n",
    "\n",
    "if check in ['a', 'e', 'i', 'o', 'u']:\n",
    "    print(\"Vowel\")\n",
    "else:\n",
    "    print(\"Consonant\")\n"
   ]
  },
  {
   "cell_type": "code",
   "execution_count": 9,
   "id": "78fd777b",
   "metadata": {},
   "outputs": [
    {
     "name": "stdout",
     "output_type": "stream",
     "text": [
      "It is not a right-angled triangle.\n"
     ]
    }
   ],
   "source": [
    "# Task 8\n",
    "a = float(input(\"Enter side a: \"))\n",
    "b = float(input(\"Enter side b: \"))\n",
    "c = float(input(\"Enter side c: \"))\n",
    "\n",
    "if a**2 + b**2 == c**2 or a**2 + c**2 == b**2 or b**2 + c**2 == a**2:\n",
    "    print(\"It is a right-angled triangle.\")\n",
    "else:\n",
    "    print(\"It is not a right-angled triangle.\")\n"
   ]
  },
  {
   "cell_type": "code",
   "execution_count": 11,
   "id": "b0559d13",
   "metadata": {},
   "outputs": [
    {
     "name": "stdout",
     "output_type": "stream",
     "text": [
      "Roots are not real.\n"
     ]
    }
   ],
   "source": [
    "# Task 9\n",
    "import math\n",
    "a = float(input(\"Enter coefficient a: \"))\n",
    "b = float(input(\"Enter coefficient b: \"))\n",
    "c = float(input(\"Enter coefficient c: \"))\n",
    "\n",
    "discriminant = b**2 - 4*a*c\n",
    "\n",
    "if discriminant >= 0:\n",
    "    root1 = (-b + math.sqrt(discriminant)) / (2*a)\n",
    "    root2 = (-b - math.sqrt(discriminant)) / (2*a)\n",
    "    print(\"Real roots are:\", root1, \"and\", root2)\n",
    "else:\n",
    "    print(\"Roots are not real.\")\n"
   ]
  },
  {
   "cell_type": "code",
   "execution_count": 12,
   "id": "2dc6094f",
   "metadata": {},
   "outputs": [
    {
     "name": "stdout",
     "output_type": "stream",
     "text": [
      "Azam\n"
     ]
    }
   ],
   "source": [
    "# Task 10\n",
    "score = int(input(\"Enter score: \"))\n",
    "\n",
    "if score > 30:\n",
    "    print(\"Azam\")\n",
    "elif 20 < score <= 30:\n",
    "    print(\"Rizwan\")\n",
    "elif 10 < score <= 20:\n",
    "    print(\"Ali\")\n",
    "else:\n",
    "    print(\"No Student matched.\")\n"
   ]
  },
  {
   "cell_type": "code",
   "execution_count": 14,
   "id": "f288ce70",
   "metadata": {},
   "outputs": [
    {
     "name": "stdout",
     "output_type": "stream",
     "text": [
      "Password is valid.\n"
     ]
    }
   ],
   "source": [
    "# Task 11\n",
    "password = input(\"Enter your password: \")\n",
    "\n",
    "if 7 <= len(password) <= 15 and any(ch.isdigit() for ch in password) and any(not ch.isalnum() for ch in password):\n",
    "    print(\"Password is valid.\")\n",
    "else:\n",
    "    print(\"Invalid password.\")\n"
   ]
  },
  {
   "cell_type": "code",
   "execution_count": 15,
   "id": "baee0617",
   "metadata": {},
   "outputs": [
    {
     "name": "stdout",
     "output_type": "stream",
     "text": [
      "Uppercase character.\n"
     ]
    }
   ],
   "source": [
    "# Task 12\n",
    "character  = input(\"Enter a character: \")\n",
    "\n",
    "if len(character) == 1:\n",
    "    if 65 <= ord(character) <= 90:\n",
    "        print(\"Uppercase character.\")\n",
    "    elif 97 <= ord(character) <= 122:\n",
    "        print(\"Lowercase character.\")\n",
    "    else:\n",
    "        print(\"Not a letter.\")\n",
    "else:\n",
    "    print(\"Please enter only one character.\")\n"
   ]
  },
  {
   "cell_type": "code",
   "execution_count": 16,
   "id": "b8fb36dd",
   "metadata": {},
   "outputs": [
    {
     "name": "stdout",
     "output_type": "stream",
     "text": [
      "It is an alphabet.\n"
     ]
    }
   ],
   "source": [
    "# Task 13\n",
    "x = input(\"Enter a character: \")\n",
    "\n",
    "if len(x) != 1:\n",
    "    print(\"Error: Enter only one character.\")\n",
    "elif x.isalpha():\n",
    "    print(\"It is an alphabet.\")\n",
    "else:\n",
    "    print(\"Not an alphabet.\")\n"
   ]
  },
  {
   "cell_type": "code",
   "execution_count": 17,
   "id": "c9ed9546",
   "metadata": {},
   "outputs": [
    {
     "name": "stdout",
     "output_type": "stream",
     "text": [
      "DUPLICATES\n"
     ]
    }
   ],
   "source": [
    "# Task 14\n",
    "nums = []\n",
    "\n",
    "for i in range(5):\n",
    "    n = int(input(f\"Enter number {i+1}: \"))\n",
    "    nums.append(n)\n",
    "if len(nums) != len(set(nums)):\n",
    "    print(\"DUPLICATES\")\n",
    "else:\n",
    "    print(\"ALL UNIQUE\")\n"
   ]
  },
  {
   "cell_type": "code",
   "execution_count": 18,
   "id": "b4eb3573",
   "metadata": {},
   "outputs": [
    {
     "name": "stdout",
     "output_type": "stream",
     "text": [
      "OK\n"
     ]
    }
   ],
   "source": [
    "# Task 15\n",
    "num = int(input(\"Enter an integer: \"))\n",
    "if 1 <= num <= 100:\n",
    "    print(\"OK\")\n"
   ]
  }
 ],
 "metadata": {
  "kernelspec": {
   "display_name": ".venv",
   "language": "python",
   "name": "python3"
  },
  "language_info": {
   "codemirror_mode": {
    "name": "ipython",
    "version": 3
   },
   "file_extension": ".py",
   "mimetype": "text/x-python",
   "name": "python",
   "nbconvert_exporter": "python",
   "pygments_lexer": "ipython3",
   "version": "3.13.7"
  }
 },
 "nbformat": 4,
 "nbformat_minor": 5
}
