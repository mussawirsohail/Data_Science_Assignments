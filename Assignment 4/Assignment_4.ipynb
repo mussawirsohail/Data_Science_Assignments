{
 "cells": [
  {
   "cell_type": "code",
   "execution_count": null,
   "id": "1005c765",
   "metadata": {},
   "outputs": [],
   "source": [
    "# Name = Mussawir Sohail\n",
    "# Date = 09/10/2025\n",
    "# Description = Assignment 4\n",
    "# Course_Name = Data-Science"
   ]
  },
  {
   "cell_type": "code",
   "execution_count": null,
   "id": "acb4373f",
   "metadata": {},
   "outputs": [],
   "source": [
    "# Program 1\n",
    "for i in range(1, 11):\n",
    "    print(i)"
   ]
  },
  {
   "cell_type": "code",
   "execution_count": null,
   "id": "d40637ba",
   "metadata": {},
   "outputs": [],
   "source": [
    "# Program 2\n",
    "n = int(input(\"Enter a number: \"))\n",
    "total = 0\n",
    "for i in range(1, n + 1):\n",
    "    total += i\n",
    "print(\"Sum =\", total)"
   ]
  },
  {
   "cell_type": "code",
   "execution_count": null,
   "id": "c448a258",
   "metadata": {},
   "outputs": [],
   "source": [
    "# Program 3\n",
    "num = int(input(\"Enter a number: \"))\n",
    "for i in range(1, 11):\n",
    "    print(f\"{num} x {i} = {num * i}\")"
   ]
  },
  {
   "cell_type": "code",
   "execution_count": null,
   "id": "9d7e1f13",
   "metadata": {},
   "outputs": [],
   "source": [
    "# Program 4\n",
    "numbers = [12, 75, 150, 180, 145, 525, 50]\n",
    "\n",
    "for num in numbers:\n",
    "    if num > 500:\n",
    "        break\n",
    "    if num > 150:\n",
    "        continue\n",
    "    if num % 5 == 0:\n",
    "        print(num)"
   ]
  },
  {
   "cell_type": "code",
   "execution_count": null,
   "id": "9965479c",
   "metadata": {},
   "outputs": [],
   "source": [
    "# Program 5\n",
    "lst = [10, 20, 30, 40, 50]\n",
    "for i in range(len(lst)-1, -1, -1):\n",
    "    print(lst[i])"
   ]
  },
  {
   "cell_type": "code",
   "execution_count": null,
   "id": "1dd597d6",
   "metadata": {},
   "outputs": [],
   "source": [
    "# Program 6\n",
    "start = int(input(\"Enter start of range: \"))\n",
    "end = int(input(\"Enter end of range: \"))\n",
    "\n",
    "print(\"Prime numbers are:\")\n",
    "for num in range(start, end + 1):\n",
    "    if num > 1:\n",
    "        for i in range(2, num):\n",
    "            if num % i == 0:\n",
    "                break\n",
    "        else:\n",
    "            print(num)"
   ]
  },
  {
   "cell_type": "code",
   "execution_count": null,
   "id": "60e977b0",
   "metadata": {},
   "outputs": [],
   "source": [
    "# Program 7\n",
    "n = int(input(\"Enter a number: \"))\n",
    "fact = 1\n",
    "for i in range(1, n + 1):\n",
    "    fact *= i\n",
    "print(\"Factorial:\", fact)"
   ]
  },
  {
   "cell_type": "code",
   "execution_count": null,
   "id": "99d87154",
   "metadata": {},
   "outputs": [],
   "source": [
    "# Program 8\n",
    "n = int(input(\"Enter number of terms: \"))\n",
    "total = 0\n",
    "for i in range(1, n + 1):\n",
    "    total += i\n",
    "print(\"Sum of series =\", total)"
   ]
  },
  {
   "cell_type": "code",
   "execution_count": null,
   "id": "51dbb383",
   "metadata": {},
   "outputs": [],
   "source": [
    "# Program 9\n",
    "import random\n",
    "target = random.randint(1, 9)\n",
    "\n",
    "while True:\n",
    "    guess = int(input(\"Guess a number between 1 and 9: \"))\n",
    "    if guess == target:\n",
    "        print(\"Well guessed!\")\n",
    "        break\n",
    "    else:\n",
    "        print(\"Try again!\")"
   ]
  },
  {
   "cell_type": "code",
   "execution_count": null,
   "id": "c3f45f8e",
   "metadata": {},
   "outputs": [],
   "source": [
    "# Program 10\n",
    "word = input(\"Enter a word: \")\n",
    "reversed_word = \"\"\n",
    "for char in word:\n",
    "    reversed_word = char + reversed_word\n",
    "print(\"Reversed word:\", reversed_word)"
   ]
  },
  {
   "cell_type": "code",
   "execution_count": null,
   "id": "c471a093",
   "metadata": {},
   "outputs": [],
   "source": [
    "# Program 11\n",
    "string = input(\"Enter a string: \")\n",
    "letters = 0\n",
    "digits = 0\n",
    "\n",
    "for ch in string:\n",
    "    if ch.isalpha():\n",
    "        letters += 1\n",
    "    elif ch.isdigit():\n",
    "        digits += 1\n",
    "\n",
    "print(\"Letters:\", letters)\n",
    "print(\"Digits:\", digits)"
   ]
  },
  {
   "cell_type": "code",
   "execution_count": null,
   "id": "971ab883",
   "metadata": {},
   "outputs": [],
   "source": [
    "# Program 12\n",
    "text = input(\"Enter a string: \")\n",
    "count = 0\n",
    "for _ in text:\n",
    "    count += 1\n",
    "print(\"Length of string:\", count)"
   ]
  },
  {
   "cell_type": "code",
   "execution_count": null,
   "id": "f0eaed91",
   "metadata": {},
   "outputs": [],
   "source": [
    "# Program 13\n",
    "name = input(\"Enter your full name: \").lower()\n",
    "vowels = 0\n",
    "consonants = 0\n",
    "\n",
    "for ch in name:\n",
    "    if ch.isalpha():\n",
    "        if ch in 'aeiou':\n",
    "            vowels += 1\n",
    "        else:\n",
    "            consonants += 1\n",
    "\n",
    "print(\"Vowels:\", vowels)\n",
    "print(\"Consonants:\", consonants)"
   ]
  },
  {
   "cell_type": "code",
   "execution_count": null,
   "id": "f7ade982",
   "metadata": {},
   "outputs": [],
   "source": [
    "# Program 14\n",
    "values = []\n",
    "n = int(input(\"How many values do you want to enter? \"))\n",
    "for i in range(n):\n",
    "    val = input(f\"Enter value {i+1}: \")\n",
    "    values.append(val)\n",
    "print(\"Your list:\", values)"
   ]
  },
  {
   "cell_type": "code",
   "execution_count": null,
   "id": "42767fc3",
   "metadata": {},
   "outputs": [],
   "source": [
    "# Program 15\n",
    "list1 = [1, 2, 3, 4, 5]\n",
    "list2 = []\n",
    "for item in list1:\n",
    "    list2.append(item)\n",
    "print(\"Copied list:\", list2)"
   ]
  },
  {
   "cell_type": "code",
   "execution_count": null,
   "id": "9f62d576",
   "metadata": {},
   "outputs": [],
   "source": [
    "# Program 16\n",
    "lst = [3, 7, 2, 9, 5]\n",
    "max_val = lst[0]\n",
    "for num in lst:\n",
    "    if num > max_val:\n",
    "        max_val = num\n",
    "print(\"Maximum value:\", max_val)"
   ]
  },
  {
   "cell_type": "code",
   "execution_count": null,
   "id": "d35412ab",
   "metadata": {},
   "outputs": [],
   "source": [
    "# Program 17\n",
    "numbers = (1, 2, 3, 4, 5, 6, 7, 8, 9)\n",
    "even = 0\n",
    "odd = 0\n",
    "for num in numbers:\n",
    "    if num % 2 == 0:\n",
    "        even += 1\n",
    "    else:\n",
    "        odd += 1\n",
    "print(\"Even numbers:\", even)\n",
    "print(\"Odd numbers:\", odd)"
   ]
  },
  {
   "cell_type": "code",
   "execution_count": null,
   "id": "29b6f050",
   "metadata": {},
   "outputs": [],
   "source": [
    "# Program 18\n",
    "numbers = [3, 5, 23, 6, 5, 1, 2, 9, 8]\n",
    "total = 0\n",
    "for num in numbers:\n",
    "    total += num ** 2\n",
    "print(\"Sum of squares:\", total)"
   ]
  },
  {
   "cell_type": "code",
   "execution_count": null,
   "id": "a2501a86",
   "metadata": {},
   "outputs": [],
   "source": [
    "# Program 19\n",
    "gadgets = [\"Mobile\", \"Laptop\", 100, \"Camera\", 310.28, \"Speakers\", 27.00, \n",
    "            \"Television\", 1000, \"Laptop Case\", \"Camera Lens\"]\n",
    "\n",
    "strings = []\n",
    "numbers = []\n",
    "\n",
    "for item in gadgets:\n",
    "    if isinstance(item, str):\n",
    "        strings.append(item)\n",
    "    else:\n",
    "        numbers.append(item)\n",
    "\n",
    "print(\"String list:\", strings)\n",
    "print(\"Number list:\", numbers)\n",
    "strings.sort()\n",
    "print(\"Strings ascending:\", strings)\n",
    "\n",
    "strings.sort(reverse=True)\n",
    "print(\"Strings descending:\", strings)\n",
    "\n",
    "numbers.sort()\n",
    "print(\"Numbers ascending:\", numbers)\n",
    "\n",
    "numbers.sort(reverse=True)\n",
    "print(\"Numbers descending:\", numbers)"
   ]
  }
 ],
 "metadata": {
  "kernelspec": {
   "display_name": ".venv",
   "language": "python",
   "name": "python3"
  },
  "language_info": {
   "codemirror_mode": {
    "name": "ipython",
    "version": 3
   },
   "file_extension": ".py",
   "mimetype": "text/x-python",
   "name": "python",
   "nbconvert_exporter": "python",
   "pygments_lexer": "ipython3",
   "version": "3.13.7"
  }
 },
 "nbformat": 4,
 "nbformat_minor": 5
}
