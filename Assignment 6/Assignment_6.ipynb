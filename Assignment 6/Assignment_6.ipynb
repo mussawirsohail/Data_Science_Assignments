{
 "cells": [
  {
   "cell_type": "markdown",
   "id": "6edd01b4",
   "metadata": {},
   "source": [
    "Name = Mussawir Sohail \n",
    "Date = 12/10/2025\n",
    "Description = Assignment 6\n",
    "Course_Name = Data-Science"
   ]
  },
  {
   "cell_type": "code",
   "execution_count": null,
   "id": "a8f44686",
   "metadata": {},
   "outputs": [],
   "source": [
    "def max_of_three(a, b, c):\n",
    "    if a >= b and a >= c:\n",
    "        return a\n",
    "    elif b >= a and b >= c:\n",
    "        return b\n",
    "    else:\n",
    "        return c\n",
    "\n",
    "print(\"Maximum number is:\", max_of_three(5, 9, 2))\n"
   ]
  },
  {
   "cell_type": "code",
   "execution_count": null,
   "id": "24c65918",
   "metadata": {},
   "outputs": [],
   "source": [
    "def sum_list(numbers):\n",
    "    total = 0\n",
    "    for num in numbers:\n",
    "        total += num\n",
    "    return total\n",
    "\n",
    "print(\"Sum of list:\", sum_list([1, 2, 3, 4, 5]))"
   ]
  },
  {
   "cell_type": "code",
   "execution_count": null,
   "id": "506c4fbf",
   "metadata": {},
   "outputs": [],
   "source": [
    "def factorial(n):\n",
    "    if n < 0:\n",
    "        return \"Factorial not defined for negative numbers\"\n",
    "    fact = 1\n",
    "    for i in range(1, n + 1):\n",
    "        fact *= i\n",
    "    return fact\n",
    "\n",
    "print(\"Factorial:\", factorial(5))"
   ]
  },
  {
   "cell_type": "code",
   "execution_count": null,
   "id": "92bcecfe",
   "metadata": {},
   "outputs": [],
   "source": [
    "def in_range(num, start, end):\n",
    "    if start <= num <= end:\n",
    "        print(f\"{num} is in the range ({start}, {end})\")\n",
    "    else:\n",
    "        print(f\"{num} is NOT in the range ({start}, {end})\")\n",
    "\n",
    "in_range(7, 5, 10)"
   ]
  },
  {
   "cell_type": "code",
   "execution_count": null,
   "id": "e38c1127",
   "metadata": {},
   "outputs": [],
   "source": [
    "def count_case(s):\n",
    "    upper = 0\n",
    "    lower = 0\n",
    "    for char in s:\n",
    "        if char.isupper():\n",
    "            upper += 1\n",
    "        elif char.islower():\n",
    "            lower += 1\n",
    "    print(\"Uppercase letters:\", upper)\n",
    "    print(\"Lowercase letters:\", lower)\n",
    "\n",
    "count_case(\"Hello World!\")"
   ]
  },
  {
   "cell_type": "code",
   "execution_count": null,
   "id": "683ce4c1",
   "metadata": {},
   "outputs": [],
   "source": [
    "def unique_list(lst):\n",
    "    new_list = []\n",
    "    for item in lst:\n",
    "        if item not in new_list:\n",
    "            new_list.append(item)\n",
    "    return new_list\n",
    "\n",
    "print(\"Unique List:\", unique_list([1, 2, 2, 3, 4, 4, 5]))"
   ]
  },
  {
   "cell_type": "code",
   "execution_count": null,
   "id": "099f9979",
   "metadata": {},
   "outputs": [],
   "source": [
    "def is_prime(num):\n",
    "    if num <= 1:\n",
    "        return False\n",
    "    for i in range(2, int(num ** 0.5) + 1):\n",
    "        if num % i == 0:\n",
    "            return False\n",
    "    return True\n",
    "\n",
    "print(\"Is Prime:\", is_prime(17))"
   ]
  },
  {
   "cell_type": "code",
   "execution_count": null,
   "id": "4c12fa84",
   "metadata": {},
   "outputs": [],
   "source": [
    "def print_even(numbers):\n",
    "    for num in numbers:\n",
    "        if num % 2 == 0:\n",
    "            print(num)\n",
    "\n",
    "print_even([1, 2, 3, 4, 5, 6, 7, 8])"
   ]
  },
  {
   "cell_type": "code",
   "execution_count": null,
   "id": "43852ee0",
   "metadata": {},
   "outputs": [],
   "source": [
    "def is_palindrome(s):\n",
    "    s = s.replace(\" \", \"\").lower()\n",
    "    if s == s[::-1]:\n",
    "        print(\"Palindrome\")\n",
    "    else:\n",
    "        print(\"Not a palindrome\")\n",
    "\n",
    "is_palindrome(\"Madam\")"
   ]
  },
  {
   "cell_type": "code",
   "execution_count": null,
   "id": "e0541a4f",
   "metadata": {},
   "outputs": [],
   "source": [
    "def square_list():\n",
    "    squares = []\n",
    "    for i in range(1, 31):\n",
    "        squares.append(i ** 2)\n",
    "    print(squares)\n",
    "\n",
    "square_list()"
   ]
  },
  {
   "cell_type": "code",
   "execution_count": null,
   "id": "724a4ed5",
   "metadata": {},
   "outputs": [],
   "source": [
    "def calculator(a, b, op):\n",
    "    if op == '+':\n",
    "        return a + b\n",
    "    elif op == '-':\n",
    "        return a - b\n",
    "    elif op == '*':\n",
    "        return a * b\n",
    "    elif op == '/':\n",
    "        if b != 0:\n",
    "            return a / b\n",
    "        else:\n",
    "            return \"Division by zero not allowed\"\n",
    "    else:\n",
    "        return \"Invalid operator\"\n",
    "\n",
    "print(\"Result:\", calculator(8, 4, '/'))\n"
   ]
  },
  {
   "cell_type": "code",
   "execution_count": null,
   "id": "a5d2f9c8",
   "metadata": {},
   "outputs": [],
   "source": [
    "def fibonacci(n):\n",
    "    if n <= 1:\n",
    "        return n\n",
    "    else:\n",
    "        return fibonacci(n - 1) + fibonacci(n - 2)\n",
    "\n",
    "terms = 10\n",
    "print(\"Fibonacci Sequence:\")\n",
    "for i in range(terms):\n",
    "    print(fibonacci(i), end=\" \")\n"
   ]
  },
  {
   "cell_type": "code",
   "execution_count": null,
   "id": "cfe08871",
   "metadata": {},
   "outputs": [],
   "source": [
    "def factorial_recursive(n):\n",
    "    if n == 0:\n",
    "        return 1\n",
    "    else:\n",
    "        return n * factorial_recursive(n - 1)\n",
    "\n",
    "print(\"Factorial (Recursion):\", factorial_recursive(5))\n"
   ]
  },
  {
   "cell_type": "code",
   "execution_count": null,
   "id": "d6b71ac7",
   "metadata": {},
   "outputs": [],
   "source": [
    "def sum_list_recursive(lst):\n",
    "    if len(lst) == 0:\n",
    "        return 0\n",
    "    else:\n",
    "        return lst[0] + sum_list_recursive(lst[1:])\n",
    "\n",
    "print(\"Sum (Recursion):\", sum_list_recursive([1, 2, 3, 4, 5]))\n"
   ]
  }
 ],
 "metadata": {
  "kernelspec": {
   "display_name": "Python 3",
   "language": "python",
   "name": "python3"
  },
  "language_info": {
   "name": "python",
   "version": "3.13.8"
  }
 },
 "nbformat": 4,
 "nbformat_minor": 5
}
