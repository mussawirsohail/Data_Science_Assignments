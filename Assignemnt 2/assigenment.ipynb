{
 "cells": [
  {
   "cell_type": "code",
   "execution_count": null,
   "id": "41a8e93b",
   "metadata": {},
   "outputs": [
    {
     "name": "stdout",
     "output_type": "stream",
     "text": [
      "{'student1': {'name': 'Alice', 'age': 20, 'grades': {'math': 85, 'science': 90}}, 'student2': {'name': 'Bob', 'age': 22, 'grades': {'science': 88}}}\n"
     ]
    }
   ],
   "source": [
    "# Task 1\n",
    "students = {\n",
    "    \"student1\": {\"name\": \"Alice\", \"age\": 20, \"grades\": {\"math\": 85, \"science\": 90}},\n",
    "    \"student2\": {\"name\": \"Bob\", \"age\": 22, \"grades\": {\"math\": 78, \"science\": 88}},\n",
    "    \"student3\": {\"name\": \"Charlie\", \"age\": 21, \"grades\": {\"math\": 82, \"science\": 89}}\n",
    "}\n",
    "\n",
    "# 1. Delete Charlie’s Record\n",
    "del students[\"student3\"]\n",
    "\n",
    "# 2. Delete Bob’s Math Grade\n",
    "del students[\"student2\"][\"grades\"][\"math\"]\n",
    "\n",
    "print(students)\n"
   ]
  },
  {
   "cell_type": "code",
   "execution_count": null,
   "id": "91f7694a",
   "metadata": {},
   "outputs": [
    {
     "name": "stdout",
     "output_type": "stream",
     "text": [
      "Department of employee 101: HR\n",
      "{101: {'name': 'Alice', 'department': 'HR', 'salary': 50000}, 102: {'name': 'Bob', 'department': 'IT', 'salary': 65000}, 103: {'name': 'Charlie', 'department': 'Finance', 'salary': 55000}, 104: {'name': 'David', 'department': 'Finance', 'salary': 52000}}\n"
     ]
    }
   ],
   "source": [
    "# Task 2\n",
    "employees = {\n",
    "    101: {\"name\": \"Alice\", \"department\": \"HR\", \"salary\": 50000},\n",
    "    102: {\"name\": \"Bob\", \"department\": \"IT\", \"salary\": 60000}\n",
    "}\n",
    "\n",
    "#Add new employee with ID 103 and 104\n",
    "employees[103] = {\"name\": \"Charlie\", \"department\": \"Finance\", \"salary\": 55000}\n",
    "employees[104] = {\"name\": \"David\", \"department\": \"Finance\", \"salary\": 52000}\n",
    "\n",
    "#Update salary of employee 102\n",
    "employees[102][\"salary\"] = 65000\n",
    "\n",
    "print(employees)\n"
   ]
  },
  {
   "cell_type": "code",
   "execution_count": null,
   "id": "73179f21",
   "metadata": {},
   "outputs": [
    {
     "name": "stdout",
     "output_type": "stream",
     "text": [
      "Top student: Charlie\n",
      "Highest average grade: 90.0\n"
     ]
    }
   ],
   "source": [
    "# Task 3\n",
    "students = {\n",
    "    \"Alice\": {\"math\": 90, \"science\": 85},\n",
    "    \"Bob\": {\"math\": 70, \"science\": 80},\n",
    "    \"Charlie\": {\"math\": 88, \"science\": 92}\n",
    "}\n",
    "\n",
    "highest_avg = 0\n",
    "top_student = \"\"\n",
    "\n",
    "for name, grades in students.items():\n",
    "    avg = sum(grades.values()) / len(grades)\n",
    "    if avg > highest_avg:\n",
    "        highest_avg = avg\n",
    "        top_student = name\n",
    "\n",
    "print(\"Top student:\", top_student)\n",
    "print(\"Highest average grade:\", highest_avg)"
   ]
  },
  {
   "cell_type": "code",
   "execution_count": null,
   "id": "d212978f",
   "metadata": {},
   "outputs": [
    {
     "name": "stdout",
     "output_type": "stream",
     "text": [
      "Library Records:\n",
      "ID: 1, Title: Python Basics, Author: Guido van Rossum, Available: False\n",
      "ID: 2, Title: Data Science , Author: John D., Available: True\n",
      "ID: 3, Title: Machine Learning, Author: Tom Lee, Available: True\n"
     ]
    }
   ],
   "source": [
    "# Task 4\n",
    "library = {\n",
    "    1: {\"title\": \"Python Basics\", \"author\": \"Guido van Rossum\", \"available\": True},\n",
    "    2: {\"title\": \"Data Science \", \"author\": \"John D.\", \"available\": True}\n",
    "}\n",
    "\n",
    "#Add a new book\n",
    "library[3] = {\"title\": \"Machine Learning\", \"author\": \"Tom Lee\", \"available\": True}\n",
    "\n",
    "#Borrow a book (change availability to False)\n",
    "library[1][\"available\"] = False\n",
    "\n",
    "#Return a book (change availability to True)\n",
    "library[2][\"available\"] = True\n",
    "\n",
    "print(\"Library Records:\")\n",
    "for book_id, details in library.items():\n",
    "    print(f\"ID: {book_id}, Title: {details['title']}, Author: {details['author']}, Available: {details['available']}\")\n"
   ]
  }
 ],
 "metadata": {
  "kernelspec": {
   "display_name": ".venv",
   "language": "python",
   "name": "python3"
  },
  "language_info": {
   "codemirror_mode": {
    "name": "ipython",
    "version": 3
   },
   "file_extension": ".py",
   "mimetype": "text/x-python",
   "name": "python",
   "nbconvert_exporter": "python",
   "pygments_lexer": "ipython3",
   "version": "3.13.7"
  }
 },
 "nbformat": 4,
 "nbformat_minor": 5
}
